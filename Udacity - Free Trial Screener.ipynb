{
 "cells": [
  {
   "cell_type": "markdown",
   "id": "ccf31ddd",
   "metadata": {},
   "source": [
    "# Experiment Overview: Free Trial Screener"
   ]
  },
  {
   "cell_type": "markdown",
   "id": "958929ca",
   "metadata": {},
   "source": [
    "### Course Overview Page\n",
    "\n",
    "1. **Start Free Trial**\n",
    "- ask for time devoted per week\n",
    "    - if >5h -> credit card info -> charged after 14 days\n",
    "    - if <=5h -> suggest to 'Access Course Materials'\n",
    "\n",
    "2. **Access Course Materials**\n",
    "- access materials for free  \n",
    "- no coaching, no certificate, no project submission and feedback\n",
    "\n",
    "### Hypothesis\n",
    "\n",
    "Set clearer expectations for students upfront, thus reducing the number of frustrated students who left the free trial because they didn't have enough time—without significantly reducing the number of students to continue past the free trial and eventually complete the course. \n",
    "\n",
    "If this hypothesis held true, Udacity could improve the overall student experience and improve coaches' capacity to support students who are likely to complete the course.\n",
    "\n",
    "### unit of diversion: cookie\n",
    "Although if the student enrolls in the free trial, they are tracked by user-id from that point forward.   \n",
    "\n",
    "The same user-id cannot enroll in the free trial twice. \n",
    "\n",
    "For users that do not enroll, their user-id is not tracked in the experiment, even if they were signed in when they visited the course overview page."
   ]
  },
  {
   "cell_type": "markdown",
   "id": "189961ad",
   "metadata": {},
   "source": [
    "# Experiment Design\n",
    "## Metirc Choice\n",
    "\n",
    "Any place \"unique cookies\" are mentioned, the uniqueness is determined by day. (That is, the same cookie visiting on different days would be counted twice.) User-ids are automatically unique since the site does not allow the same user-id to enroll twice.\n",
    "\n",
    "- Number of cookies: That is, number of unique cookies to view the course overview page. (dmin=3000)\n",
    "- Number of user-ids: That is, number of users who enroll in the free trial. (dmin=50)\n",
    "- Number of clicks: That is, number of unique cookies to click the \"Start free trial\" button (which happens before the free trial screener is trigger). (dmin=240)\n",
    "- Click-through-probability: That is, number of unique cookies to click the \"Start free trial\" button divided by number of unique cookies to view the course overview page. (dmin=0.01)\n",
    "- Gross conversion: That is, number of user-ids to complete checkout and enroll in the free trial divided by number of unique cookies to click the \"Start free trial\" button. (dmin= 0.01)\n",
    "- Retention: That is, number of user-ids to remain enrolled past the 14-day boundary (and thus make at least one payment) divided by number of user-ids to complete checkout. (dmin=0.01)\n",
    "- Net conversion: That is, number of user-ids to remain enrolled past the 14-day boundary (and thus make at least one payment) divided by the number of unique cookies to click the \"Start free trial\" button. (dmin= 0.0075)\n",
    "\n",
    "### Invariant Metircs\n",
    "1. Number of cookies: overall population is same\n",
    "2. Number of clicks: population invariance, to make sure there’s relatively same number of cookies in each groups\n",
    "3. Click-through-probability\n",
    "\n",
    "### Evaluation Metrics\n",
    "1. Gross conversion: to check if the suggestion will reduce the number of people who wants to enroll the free trial\n",
    "2. Net conversion: check whether the change would influence the number of clients who pass the free trial but still enrolled"
   ]
  },
  {
   "cell_type": "markdown",
   "id": "de543217",
   "metadata": {},
   "source": [
    "## Mearsuing Variability"
   ]
  },
  {
   "cell_type": "markdown",
   "id": "43dcd988",
   "metadata": {},
   "source": [
    "### Baseline Values"
   ]
  },
  {
   "cell_type": "code",
   "execution_count": 1,
   "id": "fe364f2a",
   "metadata": {},
   "outputs": [],
   "source": [
    "cookies_page_day = 40000\n",
    "cookies_click_freetrial_day = 3200\n",
    "enrollments_day = 660\n",
    "ctp_freetrial = 0.08\n",
    "enroll_prob_click = 0.20625 #Probability of enrolling, given click\n",
    "payment_prob_enroll = 0.53 #Probability of payment, given enroll:\n",
    "payment_prob_click = 0.1093125 #Probability of payment, given click"
   ]
  },
  {
   "cell_type": "markdown",
   "id": "d981d29c",
   "metadata": {},
   "source": [
    "### Evaluation Metrics"
   ]
  },
  {
   "cell_type": "code",
   "execution_count": 2,
   "id": "2f5667b4",
   "metadata": {},
   "outputs": [
    {
     "name": "stdout",
     "output_type": "stream",
     "text": [
      "Gross Conversion 0.2062\n",
      "Net Conversion: 0.1093\n"
     ]
    }
   ],
   "source": [
    "gross_conversion = enrollments_day/cookies_click_freetrial_day\n",
    "print('Gross Conversion', round(gross_conversion,4))\n",
    "\n",
    "net_conversion = payment_prob_enroll*enrollments_day/cookies_click_freetrial_day\n",
    "print('Net Conversion:', round(net_conversion,4))"
   ]
  },
  {
   "cell_type": "markdown",
   "id": "dbd37721",
   "metadata": {},
   "source": [
    "### Standard Deviation"
   ]
  },
  {
   "cell_type": "code",
   "execution_count": 3,
   "id": "b074abce",
   "metadata": {},
   "outputs": [
    {
     "name": "stdout",
     "output_type": "stream",
     "text": [
      "SD of Gross Conversion: 0.0202\n",
      "SD of Net Conversion: 0.0156\n"
     ]
    }
   ],
   "source": [
    "import math\n",
    "\n",
    "n = 5000\n",
    "gross_conversion_n = cookies_click_freetrial_day/cookies_page_day * n\n",
    "net_conversion_n = cookies_click_freetrial_day/cookies_page_day * n\n",
    "\n",
    "def get_sd(prob, size):\n",
    "    return math.sqrt(prob * (1-prob) / size)\n",
    "\n",
    "gross_conversion_sd = get_sd(gross_conversion, gross_conversion_n)\n",
    "print('SD of Gross Conversion:', round(gross_conversion_sd,4))\n",
    "\n",
    "net_conversion_sd = get_sd(net_conversion, net_conversion_n)\n",
    "print('SD of Net Conversion:', round(net_conversion_sd,4))"
   ]
  },
  {
   "cell_type": "markdown",
   "id": "82f202f9",
   "metadata": {},
   "source": [
    "## Sizing"
   ]
  },
  {
   "cell_type": "markdown",
   "id": "8ae44992",
   "metadata": {},
   "source": [
    "### Choosing Number of Samples given Power\n",
    "\n",
    "Using the analytic estimates of variance, how many pageviews total (across both groups) would you need to collect to adequately power the experiment? "
   ]
  },
  {
   "cell_type": "code",
   "execution_count": 4,
   "id": "c4f7c46f",
   "metadata": {},
   "outputs": [],
   "source": [
    "alpha = 0.05\n",
    "beta = 0.2"
   ]
  },
  {
   "cell_type": "markdown",
   "id": "dc466519",
   "metadata": {},
   "source": [
    "https://www.evanmiller.org/ab-testing/sample-size.html"
   ]
  },
  {
   "cell_type": "code",
   "execution_count": 5,
   "id": "ce3a8b3d",
   "metadata": {},
   "outputs": [
    {
     "name": "stdout",
     "output_type": "stream",
     "text": [
      "Total Pageviews for Gross Conversion: 645875\n",
      "Total Pageviews for Net Conversion: 685325\n"
     ]
    }
   ],
   "source": [
    "gross_conversion_size = 25835 #per click\n",
    "gross_conversion_total_click = gross_conversion_size * 2\n",
    "gross_conversion_total_page = gross_conversion_total_click / (cookies_click_freetrial_day / cookies_page_day)\n",
    "print('Total Pageviews for Gross Conversion:', int(gross_conversion_total_page))\n",
    "\n",
    "net_conversion_size = 27413 # per click\n",
    "net_conversion_total_click = net_conversion_size * 2\n",
    "net_conversion_total_page = net_conversion_total_click / (cookies_click_freetrial_day / cookies_page_day)\n",
    "print('Total Pageviews for Net Conversion:', int(net_conversion_total_page))"
   ]
  },
  {
   "cell_type": "markdown",
   "id": "ff3c1209",
   "metadata": {},
   "source": [
    "The total pageviews for the study should be 685325 if two metrics run independently"
   ]
  },
  {
   "cell_type": "markdown",
   "id": "5d34d5b0",
   "metadata": {},
   "source": [
    "#### Bonferroni correction"
   ]
  },
  {
   "cell_type": "code",
   "execution_count": 6,
   "id": "e2740979",
   "metadata": {},
   "outputs": [
    {
     "data": {
      "text/plain": [
       "0.025"
      ]
     },
     "execution_count": 6,
     "metadata": {},
     "output_type": "execute_result"
    }
   ],
   "source": [
    "alpha_individual = alpha / 2\n",
    "round(alpha_individual, 4)"
   ]
  },
  {
   "cell_type": "markdown",
   "id": "f206fcb7",
   "metadata": {},
   "source": [
    "Too small -> need a lot of pages -> too consevative"
   ]
  },
  {
   "cell_type": "markdown",
   "id": "6f33b6af",
   "metadata": {},
   "source": [
    "### Choosing Duration vs. Exposure\n",
    "What percentage of Udacity's traffic would you divert to this experiment (assuming there were no other experiments you wanted to run simultaneously)? Is the change risky enough that you wouldn't want to run on all traffic?\n",
    "\n",
    "\n",
    "Given the percentage you chose, how long would the experiment take to run, using the analytic estimates of variance? If the answer is longer than a few weeks, then this is unreasonably long, and you should reconsider an earlier decision."
   ]
  },
  {
   "cell_type": "code",
   "execution_count": 7,
   "id": "cba8a898",
   "metadata": {},
   "outputs": [],
   "source": [
    "import numpy as np\n",
    "\n",
    "traffic_percentage_list = np.arange(0.1,1.1,0.1)\n",
    "#the retention and \n",
    "total_page = 685325\n",
    "\n",
    "duration = []\n",
    "for traffic_percentage in traffic_percentage_list:\n",
    "    duration.append(total_page / (cookies_page_day * traffic_percentage))"
   ]
  },
  {
   "cell_type": "code",
   "execution_count": 8,
   "id": "58ebc491",
   "metadata": {},
   "outputs": [
    {
     "data": {
      "image/png": "[encoded data removed]",
      "text/plain": [
       "<Figure size 432x288 with 1 Axes>"
      ]
     },
     "metadata": {
      "needs_background": "light"
     },
     "output_type": "display_data"
    }
   ],
   "source": [
    "import matplotlib.pyplot as plt\n",
    "\n",
    "plt.plot(traffic_percentage_list * 100,duration, 'bo-')\n",
    "\n",
    "for x,y in zip(traffic_percentage_list * 100,duration):\n",
    "    label = \"{:.2f}\".format(y)\n",
    "    plt.annotate(label, # this is the text\n",
    "                 (x,y), # these are the coordinates to position the label\n",
    "                 textcoords=\"offset points\", # how to position the text\n",
    "                 xytext=(0,10), # distance from text to points (x,y)\n",
    "                 ha='center') # horizontal alignment can be left, right or center\n",
    "plt.xlabel('Traffic Percentage (%)')\n",
    "plt.ylabel('Duration (days)')\n",
    "plt.show()"
   ]
  },
  {
   "attachments": {},
   "cell_type": "markdown",
   "id": "487ecd27",
   "metadata": {},
   "source": [
    "Choosing 90% and run the experiment for 20 days\n",
    "\n",
    "Although there's no other experiments running at the same time, but it is usually not safe to put all (100%) of traffic into consideration, because 1)not too much days difference for 90% and 100%, 2)if put all traffic, cannot tell if other issues affect the results"
   ]
  },
  {
   "cell_type": "markdown",
   "id": "fd58a17e",
   "metadata": {},
   "source": [
    "# Experiment Analysis"
   ]
  },
  {
   "cell_type": "markdown",
   "id": "00a1f435",
   "metadata": {},
   "source": [
    "## Sanity Cheaks"
   ]
  },
  {
   "cell_type": "markdown",
   "id": "05d0be39",
   "metadata": {},
   "source": [
    "For each of your invariant metrics, give the 95% confidence interval for the value you expect to observe, the actual observed value, and whether the metric passes your sanity check. \n",
    "\n",
    "For any sanity check that did not pass, explain your best guess as to what went wrong based on the day-by-day data. Do not proceed to the rest of the analysis unless all sanity checks pass."
   ]
  },
  {
   "cell_type": "code",
   "execution_count": 9,
   "id": "26d53e71",
   "metadata": {},
   "outputs": [],
   "source": [
    "import pandas as pd\n",
    "control = pd.read_csv('Final Project Results - Control.csv')\n",
    "exp = pd.read_csv('Final Project Results - Experiment.csv')"
   ]
  },
  {
   "cell_type": "markdown",
   "id": "cc7adb2f",
   "metadata": {},
   "source": [
    "- Pageviews: Number of unique cookies to view the course overview page that day.\n",
    "- Clicks: Number of unique cookies to click the course overview page that day.\n",
    "- Enrollments: Number of user-ids to enroll in the free trial that day.\n",
    "- Payments: Number of user-ids who enrolled on that day to remain enrolled for 14 days and thus make a payment. (Note that the date for this column is the start date, that is, the date of enrollment, rather than the date of the payment. The payment happened 14 days later. Because of this, the enrollments and payments are tracked for 14 fewer days than the other columns.)"
   ]
  },
  {
   "cell_type": "code",
   "execution_count": 10,
   "id": "fdb8c973",
   "metadata": {},
   "outputs": [
    {
     "data": {
      "text/html": [
       "<div>\n",
       "<style scoped>\n",
       "    .dataframe tbody tr th:only-of-type {\n",
       "        vertical-align: middle;\n",
       "    }\n",
       "\n",
       "    .dataframe tbody tr th {\n",
       "        vertical-align: top;\n",
       "    }\n",
       "\n",
       "    .dataframe thead th {\n",
       "        text-align: right;\n",
       "    }\n",
       "</style>\n",
       "<table border=\"1\" class=\"dataframe\">\n",
       "  <thead>\n",
       "    <tr style=\"text-align: right;\">\n",
       "      <th></th>\n",
       "      <th>Date</th>\n",
       "      <th>Pageviews</th>\n",
       "      <th>Clicks</th>\n",
       "      <th>Enrollments</th>\n",
       "      <th>Payments</th>\n",
       "    </tr>\n",
       "  </thead>\n",
       "  <tbody>\n",
       "    <tr>\n",
       "      <th>0</th>\n",
       "      <td>Sat, Oct 11</td>\n",
       "      <td>7723</td>\n",
       "      <td>687</td>\n",
       "      <td>134.0</td>\n",
       "      <td>70.0</td>\n",
       "    </tr>\n",
       "    <tr>\n",
       "      <th>1</th>\n",
       "      <td>Sun, Oct 12</td>\n",
       "      <td>9102</td>\n",
       "      <td>779</td>\n",
       "      <td>147.0</td>\n",
       "      <td>70.0</td>\n",
       "    </tr>\n",
       "    <tr>\n",
       "      <th>2</th>\n",
       "      <td>Mon, Oct 13</td>\n",
       "      <td>10511</td>\n",
       "      <td>909</td>\n",
       "      <td>167.0</td>\n",
       "      <td>95.0</td>\n",
       "    </tr>\n",
       "    <tr>\n",
       "      <th>3</th>\n",
       "      <td>Tue, Oct 14</td>\n",
       "      <td>9871</td>\n",
       "      <td>836</td>\n",
       "      <td>156.0</td>\n",
       "      <td>105.0</td>\n",
       "    </tr>\n",
       "    <tr>\n",
       "      <th>4</th>\n",
       "      <td>Wed, Oct 15</td>\n",
       "      <td>10014</td>\n",
       "      <td>837</td>\n",
       "      <td>163.0</td>\n",
       "      <td>64.0</td>\n",
       "    </tr>\n",
       "  </tbody>\n",
       "</table>\n",
       "</div>"
      ],
      "text/plain": [
       "          Date  Pageviews  Clicks  Enrollments  Payments\n",
       "0  Sat, Oct 11       7723     687        134.0      70.0\n",
       "1  Sun, Oct 12       9102     779        147.0      70.0\n",
       "2  Mon, Oct 13      10511     909        167.0      95.0\n",
       "3  Tue, Oct 14       9871     836        156.0     105.0\n",
       "4  Wed, Oct 15      10014     837        163.0      64.0"
      ]
     },
     "execution_count": 10,
     "metadata": {},
     "output_type": "execute_result"
    }
   ],
   "source": [
    "control.head()"
   ]
  },
  {
   "cell_type": "code",
   "execution_count": 11,
   "id": "1e8ab642",
   "metadata": {},
   "outputs": [
    {
     "data": {
      "text/html": [
       "<div>\n",
       "<style scoped>\n",
       "    .dataframe tbody tr th:only-of-type {\n",
       "        vertical-align: middle;\n",
       "    }\n",
       "\n",
       "    .dataframe tbody tr th {\n",
       "        vertical-align: top;\n",
       "    }\n",
       "\n",
       "    .dataframe thead th {\n",
       "        text-align: right;\n",
       "    }\n",
       "</style>\n",
       "<table border=\"1\" class=\"dataframe\">\n",
       "  <thead>\n",
       "    <tr style=\"text-align: right;\">\n",
       "      <th></th>\n",
       "      <th>Date</th>\n",
       "      <th>Pageviews</th>\n",
       "      <th>Clicks</th>\n",
       "      <th>Enrollments</th>\n",
       "      <th>Payments</th>\n",
       "    </tr>\n",
       "  </thead>\n",
       "  <tbody>\n",
       "    <tr>\n",
       "      <th>0</th>\n",
       "      <td>Sat, Oct 11</td>\n",
       "      <td>7716</td>\n",
       "      <td>686</td>\n",
       "      <td>105.0</td>\n",
       "      <td>34.0</td>\n",
       "    </tr>\n",
       "    <tr>\n",
       "      <th>1</th>\n",
       "      <td>Sun, Oct 12</td>\n",
       "      <td>9288</td>\n",
       "      <td>785</td>\n",
       "      <td>116.0</td>\n",
       "      <td>91.0</td>\n",
       "    </tr>\n",
       "    <tr>\n",
       "      <th>2</th>\n",
       "      <td>Mon, Oct 13</td>\n",
       "      <td>10480</td>\n",
       "      <td>884</td>\n",
       "      <td>145.0</td>\n",
       "      <td>79.0</td>\n",
       "    </tr>\n",
       "    <tr>\n",
       "      <th>3</th>\n",
       "      <td>Tue, Oct 14</td>\n",
       "      <td>9867</td>\n",
       "      <td>827</td>\n",
       "      <td>138.0</td>\n",
       "      <td>92.0</td>\n",
       "    </tr>\n",
       "    <tr>\n",
       "      <th>4</th>\n",
       "      <td>Wed, Oct 15</td>\n",
       "      <td>9793</td>\n",
       "      <td>832</td>\n",
       "      <td>140.0</td>\n",
       "      <td>94.0</td>\n",
       "    </tr>\n",
       "  </tbody>\n",
       "</table>\n",
       "</div>"
      ],
      "text/plain": [
       "          Date  Pageviews  Clicks  Enrollments  Payments\n",
       "0  Sat, Oct 11       7716     686        105.0      34.0\n",
       "1  Sun, Oct 12       9288     785        116.0      91.0\n",
       "2  Mon, Oct 13      10480     884        145.0      79.0\n",
       "3  Tue, Oct 14       9867     827        138.0      92.0\n",
       "4  Wed, Oct 15       9793     832        140.0      94.0"
      ]
     },
     "execution_count": 11,
     "metadata": {},
     "output_type": "execute_result"
    }
   ],
   "source": [
    "exp.head()"
   ]
  },
  {
   "cell_type": "code",
   "execution_count": 12,
   "id": "e22fc61f",
   "metadata": {},
   "outputs": [
    {
     "data": {
      "text/plain": [
       "((37, 5), (37, 5))"
      ]
     },
     "execution_count": 12,
     "metadata": {},
     "output_type": "execute_result"
    }
   ],
   "source": [
    "control.shape, exp.shape"
   ]
  },
  {
   "cell_type": "markdown",
   "id": "680704b1",
   "metadata": {},
   "source": [
    "#### Number of Clicks"
   ]
  },
  {
   "cell_type": "code",
   "execution_count": 13,
   "id": "fd69153f",
   "metadata": {},
   "outputs": [
    {
     "name": "stdout",
     "output_type": "stream",
     "text": [
      "Expected value of clicks: 0.5\n",
      "Observed value of clicks: 0.5005\n",
      "The 95% Confidence Interval of Clicks: (0.4959, 0.5041)\n"
     ]
    }
   ],
   "source": [
    "control_clicks = sum(control['Clicks'])\n",
    "exp_clicks = sum(exp['Clicks'])\n",
    "clicks_sd = math.sqrt(0.5 * 0.5 /(control_clicks + exp_clicks))\n",
    "m = 1.96 * clicks_sd\n",
    "CI_clicks = (round((0.5- m),4), round((0.5+m),4))\n",
    "clicks_hat = control_clicks / (control_clicks + exp_clicks)\n",
    "\n",
    "print('Expected value of clicks: 0.5')\n",
    "print('Observed value of clicks:', round(clicks_hat, 4))\n",
    "print('The 95% Confidence Interval of Clicks:', CI_clicks)"
   ]
  },
  {
   "cell_type": "markdown",
   "id": "5f2440c4",
   "metadata": {},
   "source": [
    "#### Number of cookies"
   ]
  },
  {
   "cell_type": "code",
   "execution_count": 55,
   "id": "b734d016",
   "metadata": {},
   "outputs": [
    {
     "name": "stdout",
     "output_type": "stream",
     "text": [
      "Expected value of cookies: 0.5\n",
      "Observed value of cookies: 0.5006\n",
      "The 95% Confidence Interval of cookies: (0.4988, 0.5012)\n"
     ]
    }
   ],
   "source": [
    "con_cookie = sum(control['Pageviews'])\n",
    "exp_cookie = sum(exp['Pageviews'])\n",
    "cookies_sd = math.sqrt(0.5*0.5/(con_cookie + exp_cookie))\n",
    "m_cookies = cookies_sd * 1.96\n",
    "ci_cookies = (round((0.5 - m_cookies),4), round((0.5 + m_cookies), 4))\n",
    "cookies_hat = con_cookie /(con_cookie + exp_cookie)\n",
    "\n",
    "print('Expected value of cookies: 0.5')\n",
    "print('Observed value of cookies:', round(cookies_hat, 4))\n",
    "print('The 95% Confidence Interval of cookies:', ci_cookies)"
   ]
  },
  {
   "cell_type": "markdown",
   "id": "d28e1e5f",
   "metadata": {},
   "source": [
    "#### Click-through-probability"
   ]
  },
  {
   "cell_type": "code",
   "execution_count": 59,
   "id": "7449f63e",
   "metadata": {},
   "outputs": [
    {
     "name": "stdout",
     "output_type": "stream",
     "text": [
      "Expected value of Click-through-probability: 0\n",
      "Observed value of Click-through-probability: 0.0001\n",
      "The 95% Confidence Interval of Click-through-probability: (-0.0013, 0.0013)\n"
     ]
    }
   ],
   "source": [
    "ctp_con = control_clicks/con_cookie\n",
    "ctp_exp = exp_clicks/exp_cookie\n",
    "\n",
    "p_pool_ctp = (control_clicks+exp_clicks)/(con_cookie+exp_cookie)\n",
    "sd_ctp = math.sqrt(p_pool_ctp * (1-p_pool_ctp)*(1/con_cookie + 1/exp_cookie))\n",
    "m_ctp = 1.96 * sd_ctp\n",
    "ci_ctp = (round(-m_ctp,4), round(m_ctp,4))\n",
    "ctp_hat = ctp_exp - ctp_con\n",
    "\n",
    "print('Expected value of Click-through-probability: 0')\n",
    "print('Observed value of Click-through-probability:', round(ctp_hat, 4))\n",
    "print('The 95% Confidence Interval of Click-through-probability:', ci_ctp)"
   ]
  },
  {
   "cell_type": "markdown",
   "id": "64e90999",
   "metadata": {},
   "source": [
    "Passed the sanity check"
   ]
  },
  {
   "cell_type": "markdown",
   "id": "7ec1625c",
   "metadata": {},
   "source": [
    "## Results Analysis"
   ]
  },
  {
   "cell_type": "markdown",
   "id": "88185321",
   "metadata": {},
   "source": [
    "### Effect Size Tests"
   ]
  },
  {
   "cell_type": "markdown",
   "id": "f6a23e55",
   "metadata": {},
   "source": [
    "For each of your evaluation metrics, give a 95% confidence interval around the difference between the experiment and control groups. Indicate whether each metric is statistically and practically significant. \n",
    "\n",
    " A metric is statistically significant if the confidence interval does not include 0 (that is, you can be confident there was a change), and it is practically significant if the confidence interval does not include the practical significance boundary (that is, you can be confident there is a change that matters to the business.)\n",
    "\n",
    "\n",
    "If you have chosen multiple evaluation metrics, you will need to decide whether to use the Bonferroni correction. When deciding, keep in mind the results you are looking for in order to launch the experiment. Will the fact that you have multiple metrics make those results more likely to occur by chance than the alpha level of 0.05?\n",
    "\n"
   ]
  },
  {
   "cell_type": "markdown",
   "id": "9b741d1e",
   "metadata": {},
   "source": [
    "#### Gross Conversion"
   ]
  },
  {
   "cell_type": "code",
   "execution_count": 14,
   "id": "d9be0877",
   "metadata": {},
   "outputs": [
    {
     "data": {
      "text/html": [
       "<div>\n",
       "<style scoped>\n",
       "    .dataframe tbody tr th:only-of-type {\n",
       "        vertical-align: middle;\n",
       "    }\n",
       "\n",
       "    .dataframe tbody tr th {\n",
       "        vertical-align: top;\n",
       "    }\n",
       "\n",
       "    .dataframe thead th {\n",
       "        text-align: right;\n",
       "    }\n",
       "</style>\n",
       "<table border=\"1\" class=\"dataframe\">\n",
       "  <thead>\n",
       "    <tr style=\"text-align: right;\">\n",
       "      <th></th>\n",
       "      <th>Date</th>\n",
       "      <th>Pageviews</th>\n",
       "      <th>Clicks</th>\n",
       "      <th>Enrollments</th>\n",
       "      <th>Payments</th>\n",
       "    </tr>\n",
       "  </thead>\n",
       "  <tbody>\n",
       "    <tr>\n",
       "      <th>0</th>\n",
       "      <td>Sat, Oct 11</td>\n",
       "      <td>7723</td>\n",
       "      <td>687</td>\n",
       "      <td>134.0</td>\n",
       "      <td>70.0</td>\n",
       "    </tr>\n",
       "    <tr>\n",
       "      <th>1</th>\n",
       "      <td>Sun, Oct 12</td>\n",
       "      <td>9102</td>\n",
       "      <td>779</td>\n",
       "      <td>147.0</td>\n",
       "      <td>70.0</td>\n",
       "    </tr>\n",
       "    <tr>\n",
       "      <th>2</th>\n",
       "      <td>Mon, Oct 13</td>\n",
       "      <td>10511</td>\n",
       "      <td>909</td>\n",
       "      <td>167.0</td>\n",
       "      <td>95.0</td>\n",
       "    </tr>\n",
       "    <tr>\n",
       "      <th>3</th>\n",
       "      <td>Tue, Oct 14</td>\n",
       "      <td>9871</td>\n",
       "      <td>836</td>\n",
       "      <td>156.0</td>\n",
       "      <td>105.0</td>\n",
       "    </tr>\n",
       "    <tr>\n",
       "      <th>4</th>\n",
       "      <td>Wed, Oct 15</td>\n",
       "      <td>10014</td>\n",
       "      <td>837</td>\n",
       "      <td>163.0</td>\n",
       "      <td>64.0</td>\n",
       "    </tr>\n",
       "    <tr>\n",
       "      <th>5</th>\n",
       "      <td>Thu, Oct 16</td>\n",
       "      <td>9670</td>\n",
       "      <td>823</td>\n",
       "      <td>138.0</td>\n",
       "      <td>82.0</td>\n",
       "    </tr>\n",
       "    <tr>\n",
       "      <th>6</th>\n",
       "      <td>Fri, Oct 17</td>\n",
       "      <td>9008</td>\n",
       "      <td>748</td>\n",
       "      <td>146.0</td>\n",
       "      <td>76.0</td>\n",
       "    </tr>\n",
       "    <tr>\n",
       "      <th>7</th>\n",
       "      <td>Sat, Oct 18</td>\n",
       "      <td>7434</td>\n",
       "      <td>632</td>\n",
       "      <td>110.0</td>\n",
       "      <td>70.0</td>\n",
       "    </tr>\n",
       "    <tr>\n",
       "      <th>8</th>\n",
       "      <td>Sun, Oct 19</td>\n",
       "      <td>8459</td>\n",
       "      <td>691</td>\n",
       "      <td>131.0</td>\n",
       "      <td>60.0</td>\n",
       "    </tr>\n",
       "    <tr>\n",
       "      <th>9</th>\n",
       "      <td>Mon, Oct 20</td>\n",
       "      <td>10667</td>\n",
       "      <td>861</td>\n",
       "      <td>165.0</td>\n",
       "      <td>97.0</td>\n",
       "    </tr>\n",
       "    <tr>\n",
       "      <th>10</th>\n",
       "      <td>Tue, Oct 21</td>\n",
       "      <td>10660</td>\n",
       "      <td>867</td>\n",
       "      <td>196.0</td>\n",
       "      <td>105.0</td>\n",
       "    </tr>\n",
       "    <tr>\n",
       "      <th>11</th>\n",
       "      <td>Wed, Oct 22</td>\n",
       "      <td>9947</td>\n",
       "      <td>838</td>\n",
       "      <td>162.0</td>\n",
       "      <td>92.0</td>\n",
       "    </tr>\n",
       "    <tr>\n",
       "      <th>12</th>\n",
       "      <td>Thu, Oct 23</td>\n",
       "      <td>8324</td>\n",
       "      <td>665</td>\n",
       "      <td>127.0</td>\n",
       "      <td>56.0</td>\n",
       "    </tr>\n",
       "    <tr>\n",
       "      <th>13</th>\n",
       "      <td>Fri, Oct 24</td>\n",
       "      <td>9434</td>\n",
       "      <td>673</td>\n",
       "      <td>220.0</td>\n",
       "      <td>122.0</td>\n",
       "    </tr>\n",
       "    <tr>\n",
       "      <th>14</th>\n",
       "      <td>Sat, Oct 25</td>\n",
       "      <td>8687</td>\n",
       "      <td>691</td>\n",
       "      <td>176.0</td>\n",
       "      <td>128.0</td>\n",
       "    </tr>\n",
       "    <tr>\n",
       "      <th>15</th>\n",
       "      <td>Sun, Oct 26</td>\n",
       "      <td>8896</td>\n",
       "      <td>708</td>\n",
       "      <td>161.0</td>\n",
       "      <td>104.0</td>\n",
       "    </tr>\n",
       "    <tr>\n",
       "      <th>16</th>\n",
       "      <td>Mon, Oct 27</td>\n",
       "      <td>9535</td>\n",
       "      <td>759</td>\n",
       "      <td>233.0</td>\n",
       "      <td>124.0</td>\n",
       "    </tr>\n",
       "    <tr>\n",
       "      <th>17</th>\n",
       "      <td>Tue, Oct 28</td>\n",
       "      <td>9363</td>\n",
       "      <td>736</td>\n",
       "      <td>154.0</td>\n",
       "      <td>91.0</td>\n",
       "    </tr>\n",
       "    <tr>\n",
       "      <th>18</th>\n",
       "      <td>Wed, Oct 29</td>\n",
       "      <td>9327</td>\n",
       "      <td>739</td>\n",
       "      <td>196.0</td>\n",
       "      <td>86.0</td>\n",
       "    </tr>\n",
       "    <tr>\n",
       "      <th>19</th>\n",
       "      <td>Thu, Oct 30</td>\n",
       "      <td>9345</td>\n",
       "      <td>734</td>\n",
       "      <td>167.0</td>\n",
       "      <td>75.0</td>\n",
       "    </tr>\n",
       "    <tr>\n",
       "      <th>20</th>\n",
       "      <td>Fri, Oct 31</td>\n",
       "      <td>8890</td>\n",
       "      <td>706</td>\n",
       "      <td>174.0</td>\n",
       "      <td>101.0</td>\n",
       "    </tr>\n",
       "    <tr>\n",
       "      <th>21</th>\n",
       "      <td>Sat, Nov 1</td>\n",
       "      <td>8460</td>\n",
       "      <td>681</td>\n",
       "      <td>156.0</td>\n",
       "      <td>93.0</td>\n",
       "    </tr>\n",
       "    <tr>\n",
       "      <th>22</th>\n",
       "      <td>Sun, Nov 2</td>\n",
       "      <td>8836</td>\n",
       "      <td>693</td>\n",
       "      <td>206.0</td>\n",
       "      <td>67.0</td>\n",
       "    </tr>\n",
       "    <tr>\n",
       "      <th>23</th>\n",
       "      <td>Mon, Nov 3</td>\n",
       "      <td>9437</td>\n",
       "      <td>788</td>\n",
       "      <td>NaN</td>\n",
       "      <td>NaN</td>\n",
       "    </tr>\n",
       "    <tr>\n",
       "      <th>24</th>\n",
       "      <td>Tue, Nov 4</td>\n",
       "      <td>9420</td>\n",
       "      <td>781</td>\n",
       "      <td>NaN</td>\n",
       "      <td>NaN</td>\n",
       "    </tr>\n",
       "    <tr>\n",
       "      <th>25</th>\n",
       "      <td>Wed, Nov 5</td>\n",
       "      <td>9570</td>\n",
       "      <td>805</td>\n",
       "      <td>NaN</td>\n",
       "      <td>NaN</td>\n",
       "    </tr>\n",
       "    <tr>\n",
       "      <th>26</th>\n",
       "      <td>Thu, Nov 6</td>\n",
       "      <td>9921</td>\n",
       "      <td>830</td>\n",
       "      <td>NaN</td>\n",
       "      <td>NaN</td>\n",
       "    </tr>\n",
       "    <tr>\n",
       "      <th>27</th>\n",
       "      <td>Fri, Nov 7</td>\n",
       "      <td>9424</td>\n",
       "      <td>781</td>\n",
       "      <td>NaN</td>\n",
       "      <td>NaN</td>\n",
       "    </tr>\n",
       "    <tr>\n",
       "      <th>28</th>\n",
       "      <td>Sat, Nov 8</td>\n",
       "      <td>9010</td>\n",
       "      <td>756</td>\n",
       "      <td>NaN</td>\n",
       "      <td>NaN</td>\n",
       "    </tr>\n",
       "    <tr>\n",
       "      <th>29</th>\n",
       "      <td>Sun, Nov 9</td>\n",
       "      <td>9656</td>\n",
       "      <td>825</td>\n",
       "      <td>NaN</td>\n",
       "      <td>NaN</td>\n",
       "    </tr>\n",
       "    <tr>\n",
       "      <th>30</th>\n",
       "      <td>Mon, Nov 10</td>\n",
       "      <td>10419</td>\n",
       "      <td>874</td>\n",
       "      <td>NaN</td>\n",
       "      <td>NaN</td>\n",
       "    </tr>\n",
       "    <tr>\n",
       "      <th>31</th>\n",
       "      <td>Tue, Nov 11</td>\n",
       "      <td>9880</td>\n",
       "      <td>830</td>\n",
       "      <td>NaN</td>\n",
       "      <td>NaN</td>\n",
       "    </tr>\n",
       "    <tr>\n",
       "      <th>32</th>\n",
       "      <td>Wed, Nov 12</td>\n",
       "      <td>10134</td>\n",
       "      <td>801</td>\n",
       "      <td>NaN</td>\n",
       "      <td>NaN</td>\n",
       "    </tr>\n",
       "    <tr>\n",
       "      <th>33</th>\n",
       "      <td>Thu, Nov 13</td>\n",
       "      <td>9717</td>\n",
       "      <td>814</td>\n",
       "      <td>NaN</td>\n",
       "      <td>NaN</td>\n",
       "    </tr>\n",
       "    <tr>\n",
       "      <th>34</th>\n",
       "      <td>Fri, Nov 14</td>\n",
       "      <td>9192</td>\n",
       "      <td>735</td>\n",
       "      <td>NaN</td>\n",
       "      <td>NaN</td>\n",
       "    </tr>\n",
       "    <tr>\n",
       "      <th>35</th>\n",
       "      <td>Sat, Nov 15</td>\n",
       "      <td>8630</td>\n",
       "      <td>743</td>\n",
       "      <td>NaN</td>\n",
       "      <td>NaN</td>\n",
       "    </tr>\n",
       "    <tr>\n",
       "      <th>36</th>\n",
       "      <td>Sun, Nov 16</td>\n",
       "      <td>8970</td>\n",
       "      <td>722</td>\n",
       "      <td>NaN</td>\n",
       "      <td>NaN</td>\n",
       "    </tr>\n",
       "  </tbody>\n",
       "</table>\n",
       "</div>"
      ],
      "text/plain": [
       "           Date  Pageviews  Clicks  Enrollments  Payments\n",
       "0   Sat, Oct 11       7723     687        134.0      70.0\n",
       "1   Sun, Oct 12       9102     779        147.0      70.0\n",
       "2   Mon, Oct 13      10511     909        167.0      95.0\n",
       "3   Tue, Oct 14       9871     836        156.0     105.0\n",
       "4   Wed, Oct 15      10014     837        163.0      64.0\n",
       "5   Thu, Oct 16       9670     823        138.0      82.0\n",
       "6   Fri, Oct 17       9008     748        146.0      76.0\n",
       "7   Sat, Oct 18       7434     632        110.0      70.0\n",
       "8   Sun, Oct 19       8459     691        131.0      60.0\n",
       "9   Mon, Oct 20      10667     861        165.0      97.0\n",
       "10  Tue, Oct 21      10660     867        196.0     105.0\n",
       "11  Wed, Oct 22       9947     838        162.0      92.0\n",
       "12  Thu, Oct 23       8324     665        127.0      56.0\n",
       "13  Fri, Oct 24       9434     673        220.0     122.0\n",
       "14  Sat, Oct 25       8687     691        176.0     128.0\n",
       "15  Sun, Oct 26       8896     708        161.0     104.0\n",
       "16  Mon, Oct 27       9535     759        233.0     124.0\n",
       "17  Tue, Oct 28       9363     736        154.0      91.0\n",
       "18  Wed, Oct 29       9327     739        196.0      86.0\n",
       "19  Thu, Oct 30       9345     734        167.0      75.0\n",
       "20  Fri, Oct 31       8890     706        174.0     101.0\n",
       "21   Sat, Nov 1       8460     681        156.0      93.0\n",
       "22   Sun, Nov 2       8836     693        206.0      67.0\n",
       "23   Mon, Nov 3       9437     788          NaN       NaN\n",
       "24   Tue, Nov 4       9420     781          NaN       NaN\n",
       "25   Wed, Nov 5       9570     805          NaN       NaN\n",
       "26   Thu, Nov 6       9921     830          NaN       NaN\n",
       "27   Fri, Nov 7       9424     781          NaN       NaN\n",
       "28   Sat, Nov 8       9010     756          NaN       NaN\n",
       "29   Sun, Nov 9       9656     825          NaN       NaN\n",
       "30  Mon, Nov 10      10419     874          NaN       NaN\n",
       "31  Tue, Nov 11       9880     830          NaN       NaN\n",
       "32  Wed, Nov 12      10134     801          NaN       NaN\n",
       "33  Thu, Nov 13       9717     814          NaN       NaN\n",
       "34  Fri, Nov 14       9192     735          NaN       NaN\n",
       "35  Sat, Nov 15       8630     743          NaN       NaN\n",
       "36  Sun, Nov 16       8970     722          NaN       NaN"
      ]
     },
     "execution_count": 14,
     "metadata": {},
     "output_type": "execute_result"
    }
   ],
   "source": [
    "#check missing values\n",
    "control"
   ]
  },
  {
   "cell_type": "code",
   "execution_count": 15,
   "id": "c425c636",
   "metadata": {},
   "outputs": [
    {
     "name": "stdout",
     "output_type": "stream",
     "text": [
      "Expected value of Gross Conversion: 0\n",
      "Observed value of Gross Conversion: -0.0206\n",
      "The 95% Confidence Interval of Gross Conversion: (-0.0291, -0.012)\n"
     ]
    }
   ],
   "source": [
    "GC_dmin = 0.01\n",
    "n = 23\n",
    "con_clicks_sub = sum(control['Clicks'][:n])\n",
    "exp_clicks_sub = sum(exp['Clicks'][:n])\n",
    "con_enroll = sum(control['Enrollments'][:n])\n",
    "exp_enroll = sum(exp['Enrollments'][:n])\n",
    "\n",
    "GC_con = con_enroll / con_clicks_sub\n",
    "GC_exp = exp_enroll / exp_clicks_sub\n",
    "GC_hat = GC_exp - GC_con\n",
    "\n",
    "p_pool_gc = (con_enroll+exp_enroll)/(con_clicks_sub +exp_clicks_sub)\n",
    "se_pool_gc = math.sqrt(p_pool_gc * (1-p_pool_gc)*(1/con_clicks_sub + 1/exp_clicks_sub))\n",
    "m_gc = 1.96 * se_pool_gc\n",
    "ci_gc_l = GC_hat-m_gc\n",
    "ci_gc_u = GC_hat+m_gc\n",
    "CI_GC = (round(ci_gc_l,4), round(ci_gc_u, 4))\n",
    "\n",
    "print('Expected value of Gross Conversion: 0')\n",
    "print('Observed value of Gross Conversion:', round(GC_hat, 4))\n",
    "print('The 95% Confidence Interval of Gross Conversion:', CI_GC)"
   ]
  },
  {
   "cell_type": "markdown",
   "id": "9f286681",
   "metadata": {},
   "source": [
    "The 95% CI does not include 0 -> statistically significant   \n",
    "The 95% CI does not include 0.01 or -0.01 (practical significance boundary) -> practically significant"
   ]
  },
  {
   "cell_type": "markdown",
   "id": "b781a7ea",
   "metadata": {},
   "source": [
    "#### Net Conversion"
   ]
  },
  {
   "cell_type": "code",
   "execution_count": 43,
   "id": "507aa3cc",
   "metadata": {},
   "outputs": [
    {
     "name": "stdout",
     "output_type": "stream",
     "text": [
      "Expected value of Net Conversion: 0\n",
      "Observed value of Net Conversion: -0.0049\n",
      "The 95% Confidence Interval of Net Conversion: (-0.0116, 0.0019)\n"
     ]
    }
   ],
   "source": [
    "NC_dmin = 0.0075\n",
    "\n",
    "con_pay = sum(control['Payments'][:n])\n",
    "exp_pay = sum(exp['Payments'][:n])\n",
    "\n",
    "NC_con = con_pay / con_clicks_sub\n",
    "NC_exp = exp_pay / exp_clicks_sub\n",
    "NC_hat = NC_exp - NC_con\n",
    "\n",
    "p_pool_nc = (con_pay+exp_pay)/(con_clicks_sub +exp_clicks_sub)\n",
    "se_pool_nc = math.sqrt(p_pool_nc * (1-p_pool_nc)*(1/con_clicks_sub + 1/exp_clicks_sub))\n",
    "m_nc = 1.96 * se_pool_nc\n",
    "ci_nc_l = NC_hat-m_nc\n",
    "ci_nc_u = NC_hat+m_nc\n",
    "CI_nc = (round(ci_nc_l,4), round(ci_nc_u, 4))\n",
    "\n",
    "print('Expected value of Net Conversion: 0')\n",
    "print('Observed value of Net Conversion:', round(NC_hat, 4))\n",
    "print('The 95% Confidence Interval of Net Conversion:', CI_nc)"
   ]
  },
  {
   "cell_type": "markdown",
   "id": "75dac008",
   "metadata": {},
   "source": [
    "The 95% CI does includes 0 -> not statistically significant  \n",
    "The 95% CI does includes -0.0075 (practical significance boundary) -> not practically significant"
   ]
  },
  {
   "cell_type": "markdown",
   "id": "3e0b0835",
   "metadata": {},
   "source": [
    "**Bonferroni correction ?**\n",
    "No, at least one of the matrix is not significant -> no need to check conversative sitiations"
   ]
  },
  {
   "cell_type": "markdown",
   "id": "f649b944",
   "metadata": {},
   "source": [
    "### Sign Test"
   ]
  },
  {
   "cell_type": "markdown",
   "id": "8f333e98",
   "metadata": {},
   "source": [
    "For each evaluation metric, do a sign test using the day-by-day breakdown. If the sign test does not agree with the confidence interval for the difference, see if you can figure out why."
   ]
  },
  {
   "cell_type": "markdown",
   "id": "c979a117",
   "metadata": {},
   "source": [
    "https://www.graphpad.com/quickcalcs/binomial1/"
   ]
  },
  {
   "cell_type": "code",
   "execution_count": 32,
   "id": "66ae39e1",
   "metadata": {},
   "outputs": [],
   "source": [
    "control['Gross Conversion'] = control['Enrollments']/control['Clicks']\n",
    "control['Net Conversion'] = control['Payments']/control['Clicks']\n",
    "exp['Gross Conversion'] = exp['Enrollments']/exp['Clicks']\n",
    "exp['Net Conversion'] = exp['Payments']/exp['Clicks']"
   ]
  },
  {
   "cell_type": "code",
   "execution_count": 33,
   "id": "53357e74",
   "metadata": {},
   "outputs": [
    {
     "data": {
      "text/html": [
       "<div>\n",
       "<style scoped>\n",
       "    .dataframe tbody tr th:only-of-type {\n",
       "        vertical-align: middle;\n",
       "    }\n",
       "\n",
       "    .dataframe tbody tr th {\n",
       "        vertical-align: top;\n",
       "    }\n",
       "\n",
       "    .dataframe thead th {\n",
       "        text-align: right;\n",
       "    }\n",
       "</style>\n",
       "<table border=\"1\" class=\"dataframe\">\n",
       "  <thead>\n",
       "    <tr style=\"text-align: right;\">\n",
       "      <th></th>\n",
       "      <th>Date</th>\n",
       "      <th>Pageviews</th>\n",
       "      <th>Clicks</th>\n",
       "      <th>Enrollments</th>\n",
       "      <th>Payments</th>\n",
       "      <th>Gross Conversion</th>\n",
       "      <th>Net Conversion</th>\n",
       "    </tr>\n",
       "  </thead>\n",
       "  <tbody>\n",
       "    <tr>\n",
       "      <th>0</th>\n",
       "      <td>Sat, Oct 11</td>\n",
       "      <td>7723</td>\n",
       "      <td>687</td>\n",
       "      <td>134.0</td>\n",
       "      <td>70.0</td>\n",
       "      <td>0.195051</td>\n",
       "      <td>0.101892</td>\n",
       "    </tr>\n",
       "    <tr>\n",
       "      <th>1</th>\n",
       "      <td>Sun, Oct 12</td>\n",
       "      <td>9102</td>\n",
       "      <td>779</td>\n",
       "      <td>147.0</td>\n",
       "      <td>70.0</td>\n",
       "      <td>0.188703</td>\n",
       "      <td>0.089859</td>\n",
       "    </tr>\n",
       "    <tr>\n",
       "      <th>2</th>\n",
       "      <td>Mon, Oct 13</td>\n",
       "      <td>10511</td>\n",
       "      <td>909</td>\n",
       "      <td>167.0</td>\n",
       "      <td>95.0</td>\n",
       "      <td>0.183718</td>\n",
       "      <td>0.104510</td>\n",
       "    </tr>\n",
       "    <tr>\n",
       "      <th>3</th>\n",
       "      <td>Tue, Oct 14</td>\n",
       "      <td>9871</td>\n",
       "      <td>836</td>\n",
       "      <td>156.0</td>\n",
       "      <td>105.0</td>\n",
       "      <td>0.186603</td>\n",
       "      <td>0.125598</td>\n",
       "    </tr>\n",
       "    <tr>\n",
       "      <th>4</th>\n",
       "      <td>Wed, Oct 15</td>\n",
       "      <td>10014</td>\n",
       "      <td>837</td>\n",
       "      <td>163.0</td>\n",
       "      <td>64.0</td>\n",
       "      <td>0.194743</td>\n",
       "      <td>0.076464</td>\n",
       "    </tr>\n",
       "  </tbody>\n",
       "</table>\n",
       "</div>"
      ],
      "text/plain": [
       "          Date  Pageviews  Clicks  Enrollments  Payments  Gross Conversion  \\\n",
       "0  Sat, Oct 11       7723     687        134.0      70.0          0.195051   \n",
       "1  Sun, Oct 12       9102     779        147.0      70.0          0.188703   \n",
       "2  Mon, Oct 13      10511     909        167.0      95.0          0.183718   \n",
       "3  Tue, Oct 14       9871     836        156.0     105.0          0.186603   \n",
       "4  Wed, Oct 15      10014     837        163.0      64.0          0.194743   \n",
       "\n",
       "   Net Conversion  \n",
       "0        0.101892  \n",
       "1        0.089859  \n",
       "2        0.104510  \n",
       "3        0.125598  \n",
       "4        0.076464  "
      ]
     },
     "execution_count": 33,
     "metadata": {},
     "output_type": "execute_result"
    }
   ],
   "source": [
    "control.head()"
   ]
  },
  {
   "cell_type": "code",
   "execution_count": 34,
   "id": "7398c2c8",
   "metadata": {},
   "outputs": [
    {
     "data": {
      "text/html": [
       "<div>\n",
       "<style scoped>\n",
       "    .dataframe tbody tr th:only-of-type {\n",
       "        vertical-align: middle;\n",
       "    }\n",
       "\n",
       "    .dataframe tbody tr th {\n",
       "        vertical-align: top;\n",
       "    }\n",
       "\n",
       "    .dataframe thead th {\n",
       "        text-align: right;\n",
       "    }\n",
       "</style>\n",
       "<table border=\"1\" class=\"dataframe\">\n",
       "  <thead>\n",
       "    <tr style=\"text-align: right;\">\n",
       "      <th></th>\n",
       "      <th>Date</th>\n",
       "      <th>Pageviews</th>\n",
       "      <th>Clicks</th>\n",
       "      <th>Enrollments</th>\n",
       "      <th>Payments</th>\n",
       "      <th>Gross Conversion</th>\n",
       "      <th>Net Conversion</th>\n",
       "    </tr>\n",
       "  </thead>\n",
       "  <tbody>\n",
       "    <tr>\n",
       "      <th>0</th>\n",
       "      <td>Sat, Oct 11</td>\n",
       "      <td>7716</td>\n",
       "      <td>686</td>\n",
       "      <td>105.0</td>\n",
       "      <td>34.0</td>\n",
       "      <td>0.153061</td>\n",
       "      <td>0.049563</td>\n",
       "    </tr>\n",
       "    <tr>\n",
       "      <th>1</th>\n",
       "      <td>Sun, Oct 12</td>\n",
       "      <td>9288</td>\n",
       "      <td>785</td>\n",
       "      <td>116.0</td>\n",
       "      <td>91.0</td>\n",
       "      <td>0.147771</td>\n",
       "      <td>0.115924</td>\n",
       "    </tr>\n",
       "    <tr>\n",
       "      <th>2</th>\n",
       "      <td>Mon, Oct 13</td>\n",
       "      <td>10480</td>\n",
       "      <td>884</td>\n",
       "      <td>145.0</td>\n",
       "      <td>79.0</td>\n",
       "      <td>0.164027</td>\n",
       "      <td>0.089367</td>\n",
       "    </tr>\n",
       "    <tr>\n",
       "      <th>3</th>\n",
       "      <td>Tue, Oct 14</td>\n",
       "      <td>9867</td>\n",
       "      <td>827</td>\n",
       "      <td>138.0</td>\n",
       "      <td>92.0</td>\n",
       "      <td>0.166868</td>\n",
       "      <td>0.111245</td>\n",
       "    </tr>\n",
       "    <tr>\n",
       "      <th>4</th>\n",
       "      <td>Wed, Oct 15</td>\n",
       "      <td>9793</td>\n",
       "      <td>832</td>\n",
       "      <td>140.0</td>\n",
       "      <td>94.0</td>\n",
       "      <td>0.168269</td>\n",
       "      <td>0.112981</td>\n",
       "    </tr>\n",
       "  </tbody>\n",
       "</table>\n",
       "</div>"
      ],
      "text/plain": [
       "          Date  Pageviews  Clicks  Enrollments  Payments  Gross Conversion  \\\n",
       "0  Sat, Oct 11       7716     686        105.0      34.0          0.153061   \n",
       "1  Sun, Oct 12       9288     785        116.0      91.0          0.147771   \n",
       "2  Mon, Oct 13      10480     884        145.0      79.0          0.164027   \n",
       "3  Tue, Oct 14       9867     827        138.0      92.0          0.166868   \n",
       "4  Wed, Oct 15       9793     832        140.0      94.0          0.168269   \n",
       "\n",
       "   Net Conversion  \n",
       "0        0.049563  \n",
       "1        0.115924  \n",
       "2        0.089367  \n",
       "3        0.111245  \n",
       "4        0.112981  "
      ]
     },
     "execution_count": 34,
     "metadata": {},
     "output_type": "execute_result"
    }
   ],
   "source": [
    "exp.head()"
   ]
  },
  {
   "cell_type": "markdown",
   "id": "3d34a98e",
   "metadata": {},
   "source": [
    "#### Gross Conversion"
   ]
  },
  {
   "cell_type": "code",
   "execution_count": 36,
   "id": "040c54cf",
   "metadata": {},
   "outputs": [],
   "source": [
    "gc_sign = pd.DataFrame()\n",
    "gc_sign['diff'] = exp['Gross Conversion'] - control['Gross Conversion']\n",
    "gc_sign = gc_sign.dropna()"
   ]
  },
  {
   "cell_type": "code",
   "execution_count": 38,
   "id": "c432f288",
   "metadata": {},
   "outputs": [],
   "source": [
    "#check if it was in 95%CI\n",
    "gc_sign['success'] = (gc_sign['diff'] > ci_gc_l) & (gc_sign['diff'] < ci_gc_u)"
   ]
  },
  {
   "cell_type": "code",
   "execution_count": 40,
   "id": "c2d601b9",
   "metadata": {},
   "outputs": [
    {
     "data": {
      "text/plain": [
       "False    17\n",
       "True      6\n",
       "Name: success, dtype: int64"
      ]
     },
     "execution_count": 40,
     "metadata": {},
     "output_type": "execute_result"
    }
   ],
   "source": [
    "gc_sign['success'].value_counts()"
   ]
  },
  {
   "cell_type": "markdown",
   "id": "a6adf9b2",
   "metadata": {},
   "source": [
    "According to Sign Test, two tail p-value = 0.0347 < 0.05 -> statistically significant"
   ]
  },
  {
   "cell_type": "markdown",
   "id": "6f1c1f19",
   "metadata": {},
   "source": [
    "#### Net Conversion"
   ]
  },
  {
   "cell_type": "code",
   "execution_count": 50,
   "id": "959c8787",
   "metadata": {},
   "outputs": [
    {
     "data": {
      "text/plain": [
       "False    19\n",
       "True      4\n",
       "Name: success, dtype: int64"
      ]
     },
     "execution_count": 50,
     "metadata": {},
     "output_type": "execute_result"
    }
   ],
   "source": [
    "nc_sign = pd.DataFrame()\n",
    "nc_sign['diff'] = exp['Net Conversion'] - control['Net Conversion']\n",
    "nc_sign = nc_sign.dropna()\n",
    "\n",
    "nc_sign['success'] = (nc_sign['diff'] > ci_nc_l) & (nc_sign['diff'] < ci_nc_u)\n",
    "\n",
    "nc_sign['success'].value_counts()"
   ]
  },
  {
   "cell_type": "markdown",
   "id": "e8cfa96c",
   "metadata": {},
   "source": [
    "According to Sign Test, two tail p-value = 0.0026 < 0.05 -> statistically significant\n",
    "\n",
    "Does not agree with CI conclusion -> deep dig"
   ]
  },
  {
   "cell_type": "code",
   "execution_count": 51,
   "id": "f370ea6f",
   "metadata": {},
   "outputs": [],
   "source": [
    "nc_sign['nc_con'] = control['Net Conversion'][:n]\n",
    "nc_sign['nc_exp'] = exp['Net Conversion'][:n]\n",
    "\n",
    "nc_sign['pay_con'] = control['Payments'][:n]\n",
    "nc_sign['click_con'] = control['Clicks'][:n]\n",
    "nc_sign['pay_exp'] = exp['Payments'][:n]\n",
    "nc_sign['click_exp'] = exp['Clicks'][:n]"
   ]
  },
  {
   "cell_type": "code",
   "execution_count": 52,
   "id": "a16e72a3",
   "metadata": {},
   "outputs": [
    {
     "data": {
      "text/html": [
       "<div>\n",
       "<style scoped>\n",
       "    .dataframe tbody tr th:only-of-type {\n",
       "        vertical-align: middle;\n",
       "    }\n",
       "\n",
       "    .dataframe tbody tr th {\n",
       "        vertical-align: top;\n",
       "    }\n",
       "\n",
       "    .dataframe thead th {\n",
       "        text-align: right;\n",
       "    }\n",
       "</style>\n",
       "<table border=\"1\" class=\"dataframe\">\n",
       "  <thead>\n",
       "    <tr style=\"text-align: right;\">\n",
       "      <th></th>\n",
       "      <th>diff</th>\n",
       "      <th>success</th>\n",
       "      <th>nc_con</th>\n",
       "      <th>nc_exp</th>\n",
       "      <th>pay_con</th>\n",
       "      <th>click_con</th>\n",
       "      <th>pay_exp</th>\n",
       "      <th>click_exp</th>\n",
       "    </tr>\n",
       "  </thead>\n",
       "  <tbody>\n",
       "    <tr>\n",
       "      <th>14</th>\n",
       "      <td>-0.064163</td>\n",
       "      <td>False</td>\n",
       "      <td>0.185239</td>\n",
       "      <td>0.121076</td>\n",
       "      <td>128.0</td>\n",
       "      <td>691</td>\n",
       "      <td>81.0</td>\n",
       "      <td>669</td>\n",
       "    </tr>\n",
       "    <tr>\n",
       "      <th>0</th>\n",
       "      <td>-0.052330</td>\n",
       "      <td>False</td>\n",
       "      <td>0.101892</td>\n",
       "      <td>0.049563</td>\n",
       "      <td>70.0</td>\n",
       "      <td>687</td>\n",
       "      <td>34.0</td>\n",
       "      <td>686</td>\n",
       "    </tr>\n",
       "    <tr>\n",
       "      <th>13</th>\n",
       "      <td>-0.046414</td>\n",
       "      <td>False</td>\n",
       "      <td>0.181278</td>\n",
       "      <td>0.134864</td>\n",
       "      <td>122.0</td>\n",
       "      <td>673</td>\n",
       "      <td>94.0</td>\n",
       "      <td>697</td>\n",
       "    </tr>\n",
       "    <tr>\n",
       "      <th>6</th>\n",
       "      <td>-0.045194</td>\n",
       "      <td>False</td>\n",
       "      <td>0.101604</td>\n",
       "      <td>0.056410</td>\n",
       "      <td>76.0</td>\n",
       "      <td>748</td>\n",
       "      <td>44.0</td>\n",
       "      <td>780</td>\n",
       "    </tr>\n",
       "    <tr>\n",
       "      <th>10</th>\n",
       "      <td>-0.038931</td>\n",
       "      <td>False</td>\n",
       "      <td>0.121107</td>\n",
       "      <td>0.082176</td>\n",
       "      <td>105.0</td>\n",
       "      <td>867</td>\n",
       "      <td>71.0</td>\n",
       "      <td>864</td>\n",
       "    </tr>\n",
       "    <tr>\n",
       "      <th>11</th>\n",
       "      <td>-0.022394</td>\n",
       "      <td>False</td>\n",
       "      <td>0.109785</td>\n",
       "      <td>0.087391</td>\n",
       "      <td>92.0</td>\n",
       "      <td>838</td>\n",
       "      <td>70.0</td>\n",
       "      <td>801</td>\n",
       "    </tr>\n",
       "    <tr>\n",
       "      <th>5</th>\n",
       "      <td>-0.022224</td>\n",
       "      <td>False</td>\n",
       "      <td>0.099635</td>\n",
       "      <td>0.077411</td>\n",
       "      <td>82.0</td>\n",
       "      <td>823</td>\n",
       "      <td>61.0</td>\n",
       "      <td>788</td>\n",
       "    </tr>\n",
       "    <tr>\n",
       "      <th>7</th>\n",
       "      <td>-0.015667</td>\n",
       "      <td>False</td>\n",
       "      <td>0.110759</td>\n",
       "      <td>0.095092</td>\n",
       "      <td>70.0</td>\n",
       "      <td>632</td>\n",
       "      <td>62.0</td>\n",
       "      <td>652</td>\n",
       "    </tr>\n",
       "    <tr>\n",
       "      <th>2</th>\n",
       "      <td>-0.015144</td>\n",
       "      <td>False</td>\n",
       "      <td>0.104510</td>\n",
       "      <td>0.089367</td>\n",
       "      <td>95.0</td>\n",
       "      <td>909</td>\n",
       "      <td>79.0</td>\n",
       "      <td>884</td>\n",
       "    </tr>\n",
       "    <tr>\n",
       "      <th>3</th>\n",
       "      <td>-0.014353</td>\n",
       "      <td>False</td>\n",
       "      <td>0.125598</td>\n",
       "      <td>0.111245</td>\n",
       "      <td>105.0</td>\n",
       "      <td>836</td>\n",
       "      <td>92.0</td>\n",
       "      <td>827</td>\n",
       "    </tr>\n",
       "    <tr>\n",
       "      <th>19</th>\n",
       "      <td>-0.010147</td>\n",
       "      <td>True</td>\n",
       "      <td>0.102180</td>\n",
       "      <td>0.092033</td>\n",
       "      <td>75.0</td>\n",
       "      <td>734</td>\n",
       "      <td>67.0</td>\n",
       "      <td>728</td>\n",
       "    </tr>\n",
       "    <tr>\n",
       "      <th>16</th>\n",
       "      <td>-0.009028</td>\n",
       "      <td>True</td>\n",
       "      <td>0.163373</td>\n",
       "      <td>0.154345</td>\n",
       "      <td>124.0</td>\n",
       "      <td>759</td>\n",
       "      <td>119.0</td>\n",
       "      <td>771</td>\n",
       "    </tr>\n",
       "    <tr>\n",
       "      <th>15</th>\n",
       "      <td>-0.001150</td>\n",
       "      <td>True</td>\n",
       "      <td>0.146893</td>\n",
       "      <td>0.145743</td>\n",
       "      <td>104.0</td>\n",
       "      <td>708</td>\n",
       "      <td>101.0</td>\n",
       "      <td>693</td>\n",
       "    </tr>\n",
       "    <tr>\n",
       "      <th>9</th>\n",
       "      <td>0.001294</td>\n",
       "      <td>True</td>\n",
       "      <td>0.112660</td>\n",
       "      <td>0.113953</td>\n",
       "      <td>97.0</td>\n",
       "      <td>861</td>\n",
       "      <td>98.0</td>\n",
       "      <td>860</td>\n",
       "    </tr>\n",
       "    <tr>\n",
       "      <th>21</th>\n",
       "      <td>0.007321</td>\n",
       "      <td>False</td>\n",
       "      <td>0.136564</td>\n",
       "      <td>0.143885</td>\n",
       "      <td>93.0</td>\n",
       "      <td>681</td>\n",
       "      <td>100.0</td>\n",
       "      <td>695</td>\n",
       "    </tr>\n",
       "    <tr>\n",
       "      <th>18</th>\n",
       "      <td>0.015676</td>\n",
       "      <td>False</td>\n",
       "      <td>0.116373</td>\n",
       "      <td>0.132050</td>\n",
       "      <td>86.0</td>\n",
       "      <td>739</td>\n",
       "      <td>96.0</td>\n",
       "      <td>727</td>\n",
       "    </tr>\n",
       "    <tr>\n",
       "      <th>12</th>\n",
       "      <td>0.021708</td>\n",
       "      <td>False</td>\n",
       "      <td>0.084211</td>\n",
       "      <td>0.105919</td>\n",
       "      <td>56.0</td>\n",
       "      <td>665</td>\n",
       "      <td>68.0</td>\n",
       "      <td>642</td>\n",
       "    </tr>\n",
       "    <tr>\n",
       "      <th>8</th>\n",
       "      <td>0.023643</td>\n",
       "      <td>False</td>\n",
       "      <td>0.086831</td>\n",
       "      <td>0.110473</td>\n",
       "      <td>60.0</td>\n",
       "      <td>691</td>\n",
       "      <td>77.0</td>\n",
       "      <td>697</td>\n",
       "    </tr>\n",
       "    <tr>\n",
       "      <th>1</th>\n",
       "      <td>0.026065</td>\n",
       "      <td>False</td>\n",
       "      <td>0.089859</td>\n",
       "      <td>0.115924</td>\n",
       "      <td>70.0</td>\n",
       "      <td>779</td>\n",
       "      <td>91.0</td>\n",
       "      <td>785</td>\n",
       "    </tr>\n",
       "    <tr>\n",
       "      <th>20</th>\n",
       "      <td>0.027301</td>\n",
       "      <td>False</td>\n",
       "      <td>0.143059</td>\n",
       "      <td>0.170360</td>\n",
       "      <td>101.0</td>\n",
       "      <td>706</td>\n",
       "      <td>123.0</td>\n",
       "      <td>722</td>\n",
       "    </tr>\n",
       "    <tr>\n",
       "      <th>4</th>\n",
       "      <td>0.036517</td>\n",
       "      <td>False</td>\n",
       "      <td>0.076464</td>\n",
       "      <td>0.112981</td>\n",
       "      <td>64.0</td>\n",
       "      <td>837</td>\n",
       "      <td>94.0</td>\n",
       "      <td>832</td>\n",
       "    </tr>\n",
       "    <tr>\n",
       "      <th>17</th>\n",
       "      <td>0.039402</td>\n",
       "      <td>False</td>\n",
       "      <td>0.123641</td>\n",
       "      <td>0.163043</td>\n",
       "      <td>91.0</td>\n",
       "      <td>736</td>\n",
       "      <td>120.0</td>\n",
       "      <td>736</td>\n",
       "    </tr>\n",
       "    <tr>\n",
       "      <th>22</th>\n",
       "      <td>0.045584</td>\n",
       "      <td>False</td>\n",
       "      <td>0.096681</td>\n",
       "      <td>0.142265</td>\n",
       "      <td>67.0</td>\n",
       "      <td>693</td>\n",
       "      <td>103.0</td>\n",
       "      <td>724</td>\n",
       "    </tr>\n",
       "  </tbody>\n",
       "</table>\n",
       "</div>"
      ],
      "text/plain": [
       "        diff  success    nc_con    nc_exp  pay_con  click_con  pay_exp  \\\n",
       "14 -0.064163    False  0.185239  0.121076    128.0        691     81.0   \n",
       "0  -0.052330    False  0.101892  0.049563     70.0        687     34.0   \n",
       "13 -0.046414    False  0.181278  0.134864    122.0        673     94.0   \n",
       "6  -0.045194    False  0.101604  0.056410     76.0        748     44.0   \n",
       "10 -0.038931    False  0.121107  0.082176    105.0        867     71.0   \n",
       "11 -0.022394    False  0.109785  0.087391     92.0        838     70.0   \n",
       "5  -0.022224    False  0.099635  0.077411     82.0        823     61.0   \n",
       "7  -0.015667    False  0.110759  0.095092     70.0        632     62.0   \n",
       "2  -0.015144    False  0.104510  0.089367     95.0        909     79.0   \n",
       "3  -0.014353    False  0.125598  0.111245    105.0        836     92.0   \n",
       "19 -0.010147     True  0.102180  0.092033     75.0        734     67.0   \n",
       "16 -0.009028     True  0.163373  0.154345    124.0        759    119.0   \n",
       "15 -0.001150     True  0.146893  0.145743    104.0        708    101.0   \n",
       "9   0.001294     True  0.112660  0.113953     97.0        861     98.0   \n",
       "21  0.007321    False  0.136564  0.143885     93.0        681    100.0   \n",
       "18  0.015676    False  0.116373  0.132050     86.0        739     96.0   \n",
       "12  0.021708    False  0.084211  0.105919     56.0        665     68.0   \n",
       "8   0.023643    False  0.086831  0.110473     60.0        691     77.0   \n",
       "1   0.026065    False  0.089859  0.115924     70.0        779     91.0   \n",
       "20  0.027301    False  0.143059  0.170360    101.0        706    123.0   \n",
       "4   0.036517    False  0.076464  0.112981     64.0        837     94.0   \n",
       "17  0.039402    False  0.123641  0.163043     91.0        736    120.0   \n",
       "22  0.045584    False  0.096681  0.142265     67.0        693    103.0   \n",
       "\n",
       "    click_exp  \n",
       "14        669  \n",
       "0         686  \n",
       "13        697  \n",
       "6         780  \n",
       "10        864  \n",
       "11        801  \n",
       "5         788  \n",
       "7         652  \n",
       "2         884  \n",
       "3         827  \n",
       "19        728  \n",
       "16        771  \n",
       "15        693  \n",
       "9         860  \n",
       "21        695  \n",
       "18        727  \n",
       "12        642  \n",
       "8         697  \n",
       "1         785  \n",
       "20        722  \n",
       "4         832  \n",
       "17        736  \n",
       "22        724  "
      ]
     },
     "execution_count": 52,
     "metadata": {},
     "output_type": "execute_result"
    }
   ],
   "source": [
    "nc_sign.sort_values(['diff'])"
   ]
  },
  {
   "cell_type": "markdown",
   "id": "d6668f5c",
   "metadata": {},
   "source": [
    "Reasons:  \n",
    "    1) Net Conversion of some control groups are high -> relatively low number of click cookies or low number of payments that day  \n",
    "    2) NC of some experiment groups are low -> low number of payments\n",
    "    \n",
    "-> the overall invariant metrics matched but the day-by-day invariance metrics did not match with two groups"
   ]
  },
  {
   "cell_type": "markdown",
   "id": "bdf781e2",
   "metadata": {},
   "source": [
    "**Bonferroni correction ?**"
   ]
  },
  {
   "cell_type": "code",
   "execution_count": 61,
   "id": "4aea8f14",
   "metadata": {},
   "outputs": [
    {
     "data": {
      "text/plain": [
       "0.025"
      ]
     },
     "execution_count": 61,
     "metadata": {},
     "output_type": "execute_result"
    }
   ],
   "source": [
    "alpha_individual = alpha / 2\n",
    "alpha_individual"
   ]
  },
  {
   "cell_type": "markdown",
   "id": "03999dfb",
   "metadata": {},
   "source": [
    "Gross Conversion: p-value = 0.0347 > 0.025 -> not statistically significant  \n",
    "Net Conversion: p-value = 0.0026 < 0.025 -> statistically significant"
   ]
  },
  {
   "cell_type": "markdown",
   "id": "58f0cc06",
   "metadata": {},
   "source": [
    "## Recommendation"
   ]
  },
  {
   "cell_type": "markdown",
   "id": "cfdc92f0",
   "metadata": {},
   "source": [
    "**No Launch**\n",
    "\n",
    "Because the overall hypothesis tests are not fully practically significant, and didn't match the sign tests results"
   ]
  },
  {
   "cell_type": "markdown",
   "id": "85a874a4",
   "metadata": {},
   "source": [
    "# Follow-up Experiments"
   ]
  },
  {
   "cell_type": "markdown",
   "id": "350a3f9a",
   "metadata": {},
   "source": [
    "### How to Reduce Early Cancellations\n",
    "If you wanted to reduce the number of frustrated students who cancel early in the course, what experiment would you try? Give a brief description of the change you would make, what your hypothesis would be about the effect of the change, what metrics you would want to measure, and what unit of diversion you would use. Include an explanation of each of your choices."
   ]
  },
  {
   "cell_type": "markdown",
   "id": "e35d7d90",
   "metadata": {},
   "source": [
    "#### Experiment Overview  \n",
    "Fully-refund after free trial within 7days, half-refund after free trial within 14 days   \n",
    "At the end of free trial, reminder the user they can still in 7 days with no reason fully refund if they cancel subscription\n",
    "\n",
    "#### Hypothesis\n",
    "The calcellation rate at the end of free trial will decrease with more people enroll in the course fully paid\n",
    "\n",
    "#### Unit of Diversion\n",
    "cookies\n",
    "\n",
    "#### Main Evaluation Metrics\n",
    "Retention: number of user-ids to remain enrolled past the 14-day boundary (and thus make at least one payment) divided by number of user-ids to complete checkout. (dmin=0.01)"
   ]
  }
 ],
 "metadata": {
  "kernelspec": {
   "display_name": "Python 3 (ipykernel)",
   "language": "python",
   "name": "python3"
  },
  "language_info": {
   "codemirror_mode": {
    "name": "ipython",
    "version": 3
   },
   "file_extension": ".py",
   "mimetype": "text/x-python",
   "name": "python",
   "nbconvert_exporter": "python",
   "pygments_lexer": "ipython3",
   "version": "3.9.7"
  }
 },
 "nbformat": 4,
 "nbformat_minor": 5
}
